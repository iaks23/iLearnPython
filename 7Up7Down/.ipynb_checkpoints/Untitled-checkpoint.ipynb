{
 "cells": [
  {
   "cell_type": "code",
   "execution_count": null,
   "id": "e18216ca",
   "metadata": {},
   "outputs": [],
   "source": [
    "#7Up7Down\n",
    "#The following python code is a simple simulation of a popular party game played with dice, 7 Up 7 Down."
   ]
  },
  {
   "cell_type": "code",
   "execution_count": 4,
   "id": "e9d0a960",
   "metadata": {},
   "outputs": [],
   "source": [
    "#necessary imports\n",
    "import random"
   ]
  },
  {
   "cell_type": "code",
   "execution_count": 14,
   "id": "6276b3ac",
   "metadata": {},
   "outputs": [
    {
     "name": "stdout",
     "output_type": "stream",
     "text": [
      "6 3\n"
     ]
    }
   ],
   "source": [
    "min = 1\n",
    "max = 6\n",
    "\n",
    "\n",
    "d1 = random.randint(min,max)\n",
    "d2 = random.randint(min,max)\n",
    "\n",
    "print(d1, d2)"
   ]
  },
  {
   "cell_type": "code",
   "execution_count": null,
   "id": "e101f37c",
   "metadata": {},
   "outputs": [],
   "source": []
  }
 ],
 "metadata": {
  "kernelspec": {
   "display_name": "Python 3",
   "language": "python",
   "name": "python3"
  },
  "language_info": {
   "codemirror_mode": {
    "name": "ipython",
    "version": 3
   },
   "file_extension": ".py",
   "mimetype": "text/x-python",
   "name": "python",
   "nbconvert_exporter": "python",
   "pygments_lexer": "ipython3",
   "version": "3.8.8"
  }
 },
 "nbformat": 4,
 "nbformat_minor": 5
}
