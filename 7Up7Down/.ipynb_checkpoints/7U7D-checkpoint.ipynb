{
 "cells": [
  {
   "cell_type": "code",
   "execution_count": null,
   "id": "79bb4567",
   "metadata": {},
   "outputs": [],
   "source": [
    "#7Up7Down\n",
    "#The following python code is a simple simulation of a popular party game played with dice, 7 Up 7 Down."
   ]
  },
  {
   "cell_type": "code",
   "execution_count": 2,
   "id": "face881d",
   "metadata": {},
   "outputs": [],
   "source": [
    "#necessary imports\n",
    "import random"
   ]
  },
  {
   "cell_type": "code",
   "execution_count": 3,
   "id": "f5d5dac8",
   "metadata": {},
   "outputs": [],
   "source": [
    "def gamble(guess,min,max):\n",
    "    \"\"\"This function tells if the user has won or lost\"\"\"\n",
    "    d1 = random.randint(min,max)\n",
    "    d2 = random.randint(min,max)\n",
    "    total = d1+d2\n",
    "    \n",
    "    if(total > 7 and guess == \"7U\"):\n",
    "        print(\"The die 1 says:\"+str(d1))\n",
    "        print(\"The die 2 says:\"+str(d2))\n",
    "        print(\"The total was \"+str(total) + \" You won! :D\")\n",
    "        return True\n",
    "    elif(total < 7 and guess == \"7D\"):\n",
    "        print(\"The die 1 says:\"+str(d1))\n",
    "        print(\"The die 2 says:\"+str(d2))\n",
    "        print(\"The total was \"+str(total) + \" You won! :D\")\n",
    "        return True\n",
    "    elif(total == 7 and guess == \"7E\"):\n",
    "        print(\"The die 1 says:\"+str(d1))\n",
    "        print(\"The die 2 says:\"+str(d2))\n",
    "        print(\"The total was \"+str(total) + \" You won! :D\")\n",
    "        return True\n",
    "    else:\n",
    "        print(\"The die 1 says:\"+str(d1))\n",
    "        print(\"The die 2 says:\"+str(d2))\n",
    "        print(\"The total was \"+str(total) + \" You lost :(\")\n",
    "        return False"
   ]
  },
  {
   "cell_type": "code",
   "execution_count": 4,
   "id": "a6d7a843",
   "metadata": {},
   "outputs": [
    {
     "name": "stdout",
     "output_type": "stream",
     "text": [
      "The die 1 says:1\n",
      "The die 2 says:1\n",
      "The total was 2 You lost :(\n"
     ]
    },
    {
     "data": {
      "text/plain": [
       "False"
      ]
     },
     "execution_count": 4,
     "metadata": {},
     "output_type": "execute_result"
    }
   ],
   "source": [
    "min = 1\n",
    "max = 6\n",
    "option = input(\"7U, 7D, OR 7E? \")\n",
    "gamble(option,min,max)"
   ]
  },
  {
   "cell_type": "code",
   "execution_count": null,
   "id": "546c577d",
   "metadata": {},
   "outputs": [],
   "source": []
  }
 ],
 "metadata": {
  "kernelspec": {
   "display_name": "Python 3",
   "language": "python",
   "name": "python3"
  },
  "language_info": {
   "codemirror_mode": {
    "name": "ipython",
    "version": 3
   },
   "file_extension": ".py",
   "mimetype": "text/x-python",
   "name": "python",
   "nbconvert_exporter": "python",
   "pygments_lexer": "ipython3",
   "version": "3.8.8"
  }
 },
 "nbformat": 4,
 "nbformat_minor": 5
}
