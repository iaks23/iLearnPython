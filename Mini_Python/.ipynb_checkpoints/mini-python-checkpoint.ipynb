{
 "cells": [
  {
   "cell_type": "code",
   "execution_count": 1,
   "id": "42ae515a",
   "metadata": {},
   "outputs": [],
   "source": [
    "#A simulation of the evergreen fan-favorite mobile game, Snake, made with Pygame."
   ]
  },
  {
   "cell_type": "code",
   "execution_count": 3,
   "id": "3e236ec9",
   "metadata": {},
   "outputs": [
    {
     "name": "stdout",
     "output_type": "stream",
     "text": [
      "pygame 2.0.1 (SDL 2.0.14, Python 3.8.8)\n",
      "Hello from the pygame community. https://www.pygame.org/contribute.html\n"
     ]
    }
   ],
   "source": [
    "import pygame \n",
    "import random\n",
    "import time"
   ]
  },
  {
   "cell_type": "code",
   "execution_count": null,
   "id": "c9cd951d",
   "metadata": {},
   "outputs": [],
   "source": [
    "pygame.init()\n",
    "window_x = 500\n",
    "window_y = 500\n",
    "game_screen = pygame.display.set_mode((window_x, window_y))\n",
    "pygame.display.set_caption(\"Mini Python\")"
   ]
  },
  {
   "cell_type": "code",
   "execution_count": null,
   "id": "5683a417",
   "metadata": {},
   "outputs": [],
   "source": [
    "#initial coordinates of Snake\n",
    "x, y = 200, 200\n",
    "delta_x, delta_y = 10, 0\n",
    "\n",
    "#initial cordinates of food.\n",
    "food_x, food_y = random.randrange(0, window_y)//10*10, random.randrange(0, window_x)//10*10\n",
    "\n",
    "body_list = [(x, y)]"
   ]
  },
  {
   "cell_type": "code",
   "execution_count": null,
   "id": "283cc2da",
   "metadata": {},
   "outputs": [],
   "source": [
    "#speed of loop\n",
    "clock = pygame.time.Clock()\n",
    "game_over = False\n",
    "font = pygame.font.SysFont(\"bahnschrift\", 25)"
   ]
  },
  {
   "cell_type": "code",
   "execution_count": null,
   "id": "d57b225e",
   "metadata": {},
   "outputs": [],
   "source": [
    "def snake():\n",
    "    global x, y, food_x, food_y, game_over, window_x, window_y\n",
    "    x = (x + delta_x)%window_x\n",
    "    y = (y + delta_y)%window_y\n",
    "    \n",
    "    \n",
    "    if((x, y) in body_list):\n",
    "        game_over = True\n",
    "        return\n",
    "    \n",
    "    body_list.append((x,y))\n",
    "    \n",
    "    if(food_x == x and food_y == y):\n",
    "        while((food_x, food_y) in body_list):\n",
    "            food_x, food_y = random.randrange(0, window_y)//10*10, random.randrange(0,window_x)//10*10\n",
    "\n",
    "    else:\n",
    "        del body_list[0]\n",
    "    #clear screen after every keyboard move\n",
    "    game_screen.fill((255,174,185))\n",
    "    score = font.render(\"Score: \"+str(len(body_list)), True, (154,50,205))\n",
    "    game_screen.blit(score, [0,0])\n",
    "    pygame.draw.circle(game_screen, (220,20,60), (food_x, food_y), 5)\n",
    "    for (i, j) in body_list:\n",
    "        pygame.draw.rect(game_screen, (154,50,205), [i, j, 10, 10])\n",
    "    pygame.display.update()"
   ]
  },
  {
   "cell_type": "code",
   "execution_count": null,
   "id": "e865b6ff",
   "metadata": {},
   "outputs": [],
   "source": [
    "level = input(\"Choose your level: 1. Beginner 2. Intermediate 3. Advanced \")\n",
    "if(level == '1'):\n",
    "    speed = 10\n",
    "elif(level == '2'):\n",
    "    speed = 13\n",
    "elif(level == '3'):\n",
    "    speed = 18\n",
    "else:\n",
    "    speed = 10 #default speed"
   ]
  },
  {
   "cell_type": "code",
   "execution_count": null,
   "id": "0705859e",
   "metadata": {},
   "outputs": [],
   "source": [
    "while True:\n",
    "    if(game_over):\n",
    "        font = pygame.font.SysFont(\"bahnschrift\", 40)\n",
    "        game_screen.fill((255,174,185))\n",
    "        score = font.render(\"Score: \"+str(len(body_list)), True, (0,0,0,0))\n",
    "        game_screen.blit(score, [0,0])\n",
    "        msg = font.render(\"GAME OVER :( !\", True, (0,0,0,0))\n",
    "        game_screen.blit(msg, [window_x//3, window_y//3])\n",
    "        pygame.display.update()\n",
    "        time.sleep(5)\n",
    "        pygame.quit()\n",
    "        quit()\n",
    "    events = pygame.event.get()\n",
    "    for event in events:\n",
    "        if(event.type == pygame.QUIT):\n",
    "            pygame.quit()\n",
    "            quit()\n",
    "        if(event.type == pygame.KEYDOWN):\n",
    "            if(event.key == pygame.K_LEFT):\n",
    "                if(delta_x != 10):\n",
    "                    delta_x = -10\n",
    "                delta_y = 0\n",
    "            elif(event.key == pygame.K_RIGHT):\n",
    "                if(delta_x != -10):\n",
    "                    delta_x = 10\n",
    "                delta_y = 0\n",
    "            elif(event.key == pygame.K_UP):\n",
    "                if(delta_y != 10):\n",
    "                    delta_y = -10\n",
    "                delta_x = 0\n",
    "            elif(event.key == pygame.K_DOWN):\n",
    "                if(delta_y != -10):\n",
    "                    delta_y = 10\n",
    "                delta_x = 0\n",
    "            else:\n",
    "                continue\n",
    "            snake() \n",
    "    if(not events):\n",
    "        snake()\n",
    "    clock.tick(speed) # difficulty rate is set here (10,15,20)"
   ]
  }
 ],
 "metadata": {
  "kernelspec": {
   "display_name": "Python 3",
   "language": "python",
   "name": "python3"
  },
  "language_info": {
   "codemirror_mode": {
    "name": "ipython",
    "version": 3
   },
   "file_extension": ".py",
   "mimetype": "text/x-python",
   "name": "python",
   "nbconvert_exporter": "python",
   "pygments_lexer": "ipython3",
   "version": "3.8.8"
  }
 },
 "nbformat": 4,
 "nbformat_minor": 5
}
