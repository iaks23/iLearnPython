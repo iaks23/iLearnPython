{
 "cells": [
  {
   "cell_type": "code",
   "execution_count": 1,
   "id": "ce0e0bc2",
   "metadata": {},
   "outputs": [],
   "source": [
    "#DotsnDash\n",
    "#The following code converts a user given word/phrase/sentence into Morse code, the encoded result will be printed out in dots and dashes."
   ]
  },
  {
   "cell_type": "code",
   "execution_count": 6,
   "id": "a99964e3",
   "metadata": {},
   "outputs": [],
   "source": [
    "#The All Knowing Dictionary\n",
    "MORSE = {\n",
    "    'A': '.-',\n",
    "    'B': '-...',\n",
    "    'C': '-.-.',\n",
    "    'D': '-..',\n",
    "    'E': '.',\n",
    "    'F': '..-.',\n",
    "    'G': '--.',\n",
    "    'H': '....',\n",
    "    'I': '..',\n",
    "    'J': '.---',\n",
    "    'K': '-.-',\n",
    "    'L': '.-..',\n",
    "    'M': '--',\n",
    "    'N': '-.',\n",
    "    'O': '---',\n",
    "    'P': '.--.',\n",
    "    'Q': '--.-',\n",
    "    'R': '.-.',\n",
    "    'S': '...',\n",
    "    'T': '-',\n",
    "    'U': '..-',\n",
    "    'V': '...-',\n",
    "    'W': '.--',\n",
    "    'X': '-..-',\n",
    "    'Y': '-.--',\n",
    "    'Z': '--..',\n",
    "    '0': '-----',\n",
    "    '1': '.----',\n",
    "    '2': '..---',\n",
    "    '3': '...--',\n",
    "    '4': '....-',\n",
    "    '5': '.....',\n",
    "    '6': '-....',\n",
    "    '7': '--...',\n",
    "    '8': '---..',\n",
    "    '9': '----.',\n",
    "    '?': '..--..',\n",
    "    ',': '--..--',\n",
    "    ' ': ' ',\n",
    "       \n",
    "}"
   ]
  },
  {
   "cell_type": "code",
   "execution_count": 7,
   "id": "3284f1ab",
   "metadata": {},
   "outputs": [],
   "source": [
    "def encode(phrase):\n",
    "    \"\"\"This function returns the encoded version of the phrase given by the user\"\"\"\n",
    "    encodedphrase = \"\"\n",
    "    phrase = phrase.upper()\n",
    "    for data in phrase:\n",
    "        encodedphrase += MORSE[data] + \" \"\n",
    "    return encodedphrase\n",
    "    "
   ]
  },
  {
   "cell_type": "code",
   "execution_count": 8,
   "id": "1765fc46",
   "metadata": {},
   "outputs": [
    {
     "name": "stdout",
     "output_type": "stream",
     "text": [
      "Please enter the word you wish to encode: Hi There\n",
      "The encoded data is: \n"
     ]
    },
    {
     "data": {
      "text/plain": [
       "'.... ..   - .... . .-. . '"
      ]
     },
     "execution_count": 8,
     "metadata": {},
     "output_type": "execute_result"
    }
   ],
   "source": [
    "data = input(\"Please enter the word you wish to encode: \")\n",
    "print(\"The encoded data is: \")\n",
    "encode(data)"
   ]
  },
  {
   "cell_type": "code",
   "execution_count": null,
   "id": "15876be2",
   "metadata": {},
   "outputs": [],
   "source": []
  },
  {
   "cell_type": "code",
   "execution_count": null,
   "id": "90113c78",
   "metadata": {},
   "outputs": [],
   "source": []
  }
 ],
 "metadata": {
  "kernelspec": {
   "display_name": "Python 3",
   "language": "python",
   "name": "python3"
  },
  "language_info": {
   "codemirror_mode": {
    "name": "ipython",
    "version": 3
   },
   "file_extension": ".py",
   "mimetype": "text/x-python",
   "name": "python",
   "nbconvert_exporter": "python",
   "pygments_lexer": "ipython3",
   "version": "3.8.8"
  }
 },
 "nbformat": 4,
 "nbformat_minor": 5
}
