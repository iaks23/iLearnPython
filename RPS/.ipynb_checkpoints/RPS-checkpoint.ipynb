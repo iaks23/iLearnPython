{
 "cells": [
  {
   "cell_type": "code",
   "execution_count": null,
   "id": "5e542a5e",
   "metadata": {},
   "outputs": [],
   "source": [
    "#A simulated version of the infamous ROCK, PAPER, SCISSORS played against the computer in a best of 1 or 3 or 5 match. May the odds be ever in your favor."
   ]
  },
  {
   "cell_type": "code",
   "execution_count": 18,
   "id": "4ae3297b",
   "metadata": {},
   "outputs": [],
   "source": [
    "import random"
   ]
  },
  {
   "cell_type": "code",
   "execution_count": 50,
   "id": "0066c8f7",
   "metadata": {},
   "outputs": [],
   "source": [
    "def play(plays):\n",
    "    playlist = ['ROCK','PAPER','SCISSORS']\n",
    "    i = 0\n",
    "    uscore = 0\n",
    "    cscore = 0\n",
    "    while (i < plays):\n",
    "        user = input(\"Take your pick! Rock, Paper, or Scissors? \")\n",
    "        user = user.upper()\n",
    "        comp = random.choice(playlist)\n",
    "        \n",
    "        if(user==comp):\n",
    "            print('User played: '+user +\" Comp played: \"+comp)\n",
    "            print('It is a tie!')\n",
    "        \n",
    "        elif(user=='ROCK'):\n",
    "            if(comp=='SCISSORS'):\n",
    "                print('User played: '+user +\" Comp played: \"+comp)\n",
    "                print('You win!')\n",
    "                uscore +=1\n",
    "            else:\n",
    "                print('User played: '+user +\" Comp played: \"+comp)\n",
    "                print('You lose :(')\n",
    "                cscore +=1\n",
    "        \n",
    "        elif(user=='PAPER'):\n",
    "            if(comp=='ROCK'):\n",
    "                print('User played: '+user +\" Comp played: \"+comp)\n",
    "                print('You win!')\n",
    "                uscore +=1\n",
    "            else:\n",
    "                print('User played: '+user +\" Comp played: \"+comp)\n",
    "                print('You lose :(')\n",
    "                cscore +=1\n",
    "        \n",
    "        elif(user=='SCISSORS'):\n",
    "            if(comp=='PAPER'):\n",
    "                print('User played: '+user +\" Comp played: \"+comp)\n",
    "                print('You win!')\n",
    "                uscore +=1\n",
    "            else:\n",
    "                print('User played: '+user +\" Comp played: \"+comp)\n",
    "                print('You lose :(')\n",
    "                cscore +=1\n",
    "        \n",
    "        else:\n",
    "            \n",
    "            print('Invalid play, please type in a valid input!')\n",
    "            \n",
    "            return False\n",
    "        \n",
    "        \n",
    "        i += 1\n",
    "        \n",
    "        \n",
    "        \n",
    "   \n",
    "    print('Computer Total: '+ str(cscore))\n",
    "    print('User Total: '+ str(uscore))\n",
    "    \n",
    "    if(cscore > uscore):\n",
    "        result = 'Computer wins! Better luck next time.'\n",
    "    \n",
    "    elif(cscore < uscore):\n",
    "        result = 'Congratulations! You win!'\n",
    "    \n",
    "    else:\n",
    "        result = 'The game is tied. We are all winners here.'\n",
    "    \n",
    "        \n",
    "    return result"
   ]
  },
  {
   "cell_type": "code",
   "execution_count": 51,
   "id": "5b27747b",
   "metadata": {},
   "outputs": [
    {
     "name": "stdout",
     "output_type": "stream",
     "text": [
      "Would you like to play a best of 1 or 3 or 5 match? 1\n",
      "Take your pick! Rock, Paper, or Scissors? rOcK\n",
      "User played: ROCK Comp played: PAPER\n",
      "You lose :(\n",
      "Computer Total: 1\n",
      "User Total: 0\n",
      "Computer wins! Better luck next time.\n"
     ]
    }
   ],
   "source": [
    "num = int(input(\"Would you like to play a best of 1 or 3 or 5 match? \"))\n",
    "result = play(num)\n",
    "print(result)"
   ]
  },
  {
   "cell_type": "code",
   "execution_count": null,
   "id": "a711774f",
   "metadata": {},
   "outputs": [],
   "source": []
  },
  {
   "cell_type": "code",
   "execution_count": null,
   "id": "5e6862b3",
   "metadata": {},
   "outputs": [],
   "source": []
  }
 ],
 "metadata": {
  "kernelspec": {
   "display_name": "Python 3",
   "language": "python",
   "name": "python3"
  }
 },
 "nbformat": 4,
 "nbformat_minor": 5
}
